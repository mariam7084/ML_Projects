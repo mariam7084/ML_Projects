{
  "nbformat": 4,
  "nbformat_minor": 0,
  "metadata": {
    "colab": {
      "provenance": [],
      "authorship_tag": "ABX9TyMt0Upt8h6VxjHfSlKGC+/E",
      "include_colab_link": true
    },
    "kernelspec": {
      "name": "python3",
      "display_name": "Python 3"
    },
    "language_info": {
      "name": "python"
    }
  },
  "cells": [
    {
      "cell_type": "markdown",
      "metadata": {
        "id": "view-in-github",
        "colab_type": "text"
      },
      "source": [
        "<a href=\"https://colab.research.google.com/github/mariam7084/ML_projects/blob/main/Electrical_Energy_Output_prediction_using_ANN.ipynb\" target=\"_parent\"><img src=\"https://colab.research.google.com/assets/colab-badge.svg\" alt=\"Open In Colab\"/></a>"
      ]
    },
    {
      "cell_type": "code",
      "execution_count": 19,
      "metadata": {
        "id": "j4QwoyKkfkna"
      },
      "outputs": [],
      "source": [
        "import numpy as np\n",
        "import pandas as pd\n",
        "import tensorflow as tf"
      ]
    },
    {
      "cell_type": "code",
      "source": [
        "tf.__version__"
      ],
      "metadata": {
        "colab": {
          "base_uri": "https://localhost:8080/",
          "height": 36
        },
        "id": "6aQdhs1sf5Rw",
        "outputId": "9c9287f3-7557-4f26-9965-825f935bf950"
      },
      "execution_count": 20,
      "outputs": [
        {
          "output_type": "execute_result",
          "data": {
            "text/plain": [
              "'2.13.0'"
            ],
            "application/vnd.google.colaboratory.intrinsic+json": {
              "type": "string"
            }
          },
          "metadata": {},
          "execution_count": 20
        }
      ]
    },
    {
      "cell_type": "markdown",
      "source": [
        "Dataset :\n",
        " Tfekci,Pnar and Kaya,Heysem. (2014). Combined Cycle Power Plant. UCI Machine Learning Repository. https://doi.org/10.24432/C5002N."
      ],
      "metadata": {
        "id": "WFJaatVwgAoX"
      }
    },
    {
      "cell_type": "code",
      "source": [
        "df  = pd.read_excel('Folds5x2_pp.xlsx')\n",
        "x = df.iloc[: , :-1].values\n",
        "y = df.iloc[:, -1].values"
      ],
      "metadata": {
        "id": "WvP2aRtwf-iw"
      },
      "execution_count": 21,
      "outputs": []
    },
    {
      "cell_type": "code",
      "source": [
        "print(x)\n",
        "# the features are :\n",
        "# 1.Hourly average ambient variables Temperature\n",
        "# 2. Ambient Pressure\n",
        "# 3. Relative Humidity\n",
        "# 4. Exhaust vaccum"
      ],
      "metadata": {
        "colab": {
          "base_uri": "https://localhost:8080/"
        },
        "id": "A2GK36dlgnuF",
        "outputId": "dfbe0baf-0cb2-4b67-bec8-2962e018ee4b"
      },
      "execution_count": 22,
      "outputs": [
        {
          "output_type": "stream",
          "name": "stdout",
          "text": [
            "[[  14.96   41.76 1024.07   73.17]\n",
            " [  25.18   62.96 1020.04   59.08]\n",
            " [   5.11   39.4  1012.16   92.14]\n",
            " ...\n",
            " [  31.32   74.33 1012.92   36.48]\n",
            " [  24.48   69.45 1013.86   62.39]\n",
            " [  21.6    62.52 1017.23   67.87]]\n"
          ]
        }
      ]
    },
    {
      "cell_type": "code",
      "source": [
        "print(y)\n",
        "# the label is \" Net hourly Electrical Energy Output Of the Plant\"\n"
      ],
      "metadata": {
        "colab": {
          "base_uri": "https://localhost:8080/"
        },
        "id": "GZv-e5BugzPS",
        "outputId": "e14dabd4-5bf2-451e-daa3-dbe47a66b29e"
      },
      "execution_count": 23,
      "outputs": [
        {
          "output_type": "stream",
          "name": "stdout",
          "text": [
            "[463.26 444.37 488.56 ... 429.57 435.74 453.28]\n"
          ]
        }
      ]
    },
    {
      "cell_type": "markdown",
      "source": [
        "###Splitting the dataset"
      ],
      "metadata": {
        "id": "cKObe5eRhdvq"
      }
    },
    {
      "cell_type": "code",
      "source": [
        "from sklearn.model_selection import train_test_split\n",
        "x_train, x_test, y_train, y_test = train_test_split(x, y, test_size = 0.2, random_state = 42)"
      ],
      "metadata": {
        "id": "ObXIdl2yg0Lp"
      },
      "execution_count": 24,
      "outputs": []
    },
    {
      "cell_type": "markdown",
      "source": [
        "###Building the ANN Model"
      ],
      "metadata": {
        "id": "VkqSrmwJh7Bm"
      }
    },
    {
      "cell_type": "code",
      "source": [
        "ann = tf.keras.models.Sequential()\n",
        "ann.add(tf.keras.layers.Dense(units = 6, activation = \"relu\"))"
      ],
      "metadata": {
        "id": "iYjjuY5Oh314"
      },
      "execution_count": 25,
      "outputs": []
    },
    {
      "cell_type": "code",
      "source": [
        "ann.add(tf.keras.layers.Dense(units = 6, activation = 'relu'))"
      ],
      "metadata": {
        "id": "jy0pxJQiiaIC"
      },
      "execution_count": 26,
      "outputs": []
    },
    {
      "cell_type": "code",
      "source": [
        "ann.add(tf.keras.layers.Dense(units = 1))"
      ],
      "metadata": {
        "id": "zUxuhlI1ilzN"
      },
      "execution_count": 27,
      "outputs": []
    },
    {
      "cell_type": "markdown",
      "source": [
        "###compiling the ANN"
      ],
      "metadata": {
        "id": "fr7lH2eOirI8"
      }
    },
    {
      "cell_type": "code",
      "source": [
        "ann.compile(optimizer = \"adam\", loss = 'mean_squared_error')"
      ],
      "metadata": {
        "id": "DcqGF2dPiqAy"
      },
      "execution_count": 28,
      "outputs": []
    },
    {
      "cell_type": "markdown",
      "source": [
        "###Training the model on training set"
      ],
      "metadata": {
        "id": "w2Lywkywi4e7"
      }
    },
    {
      "cell_type": "code",
      "source": [
        "ann.fit(x_train, y_train, batch_size = 32, epochs = 100)"
      ],
      "metadata": {
        "colab": {
          "base_uri": "https://localhost:8080/"
        },
        "id": "BhSJSPHJi0Yr",
        "outputId": "e7cd0eb5-b753-4b6c-be30-eec8b38fb9fe"
      },
      "execution_count": 29,
      "outputs": [
        {
          "output_type": "stream",
          "name": "stdout",
          "text": [
            "Epoch 1/100\n",
            "240/240 [==============================] - 3s 5ms/step - loss: 55468.4180\n",
            "Epoch 2/100\n",
            "240/240 [==============================] - 1s 4ms/step - loss: 756.6697\n",
            "Epoch 3/100\n",
            "240/240 [==============================] - 1s 4ms/step - loss: 501.3629\n",
            "Epoch 4/100\n",
            "240/240 [==============================] - 1s 5ms/step - loss: 485.8251\n",
            "Epoch 5/100\n",
            "240/240 [==============================] - 1s 4ms/step - loss: 467.2482\n",
            "Epoch 6/100\n",
            "240/240 [==============================] - 1s 3ms/step - loss: 446.6401\n",
            "Epoch 7/100\n",
            "240/240 [==============================] - 1s 4ms/step - loss: 423.4228\n",
            "Epoch 8/100\n",
            "240/240 [==============================] - 1s 4ms/step - loss: 398.2121\n",
            "Epoch 9/100\n",
            "240/240 [==============================] - 1s 4ms/step - loss: 370.7704\n",
            "Epoch 10/100\n",
            "240/240 [==============================] - 2s 8ms/step - loss: 342.2757\n",
            "Epoch 11/100\n",
            "240/240 [==============================] - 2s 8ms/step - loss: 314.1242\n",
            "Epoch 12/100\n",
            "240/240 [==============================] - 1s 5ms/step - loss: 283.4581\n",
            "Epoch 13/100\n",
            "240/240 [==============================] - 1s 4ms/step - loss: 253.7100\n",
            "Epoch 14/100\n",
            "240/240 [==============================] - 1s 4ms/step - loss: 224.4158\n",
            "Epoch 15/100\n",
            "240/240 [==============================] - 1s 4ms/step - loss: 196.3153\n",
            "Epoch 16/100\n",
            "240/240 [==============================] - 1s 5ms/step - loss: 168.7930\n",
            "Epoch 17/100\n",
            "240/240 [==============================] - 1s 3ms/step - loss: 143.7689\n",
            "Epoch 18/100\n",
            "240/240 [==============================] - 1s 2ms/step - loss: 121.3886\n",
            "Epoch 19/100\n",
            "240/240 [==============================] - 1s 2ms/step - loss: 101.3212\n",
            "Epoch 20/100\n",
            "240/240 [==============================] - 1s 2ms/step - loss: 84.2091\n",
            "Epoch 21/100\n",
            "240/240 [==============================] - 0s 2ms/step - loss: 69.9513\n",
            "Epoch 22/100\n",
            "240/240 [==============================] - 0s 2ms/step - loss: 58.8367\n",
            "Epoch 23/100\n",
            "240/240 [==============================] - 0s 2ms/step - loss: 50.5361\n",
            "Epoch 24/100\n",
            "240/240 [==============================] - 0s 2ms/step - loss: 44.0520\n",
            "Epoch 25/100\n",
            "240/240 [==============================] - 1s 3ms/step - loss: 39.5171\n",
            "Epoch 26/100\n",
            "240/240 [==============================] - 1s 3ms/step - loss: 36.3053\n",
            "Epoch 27/100\n",
            "240/240 [==============================] - 1s 4ms/step - loss: 34.2238\n",
            "Epoch 28/100\n",
            "240/240 [==============================] - 1s 3ms/step - loss: 32.4518\n",
            "Epoch 29/100\n",
            "240/240 [==============================] - 0s 2ms/step - loss: 31.3006\n",
            "Epoch 30/100\n",
            "240/240 [==============================] - 1s 4ms/step - loss: 30.6314\n",
            "Epoch 31/100\n",
            "240/240 [==============================] - 1s 4ms/step - loss: 29.8602\n",
            "Epoch 32/100\n",
            "240/240 [==============================] - 1s 4ms/step - loss: 29.5630\n",
            "Epoch 33/100\n",
            "240/240 [==============================] - 0s 2ms/step - loss: 28.9361\n",
            "Epoch 34/100\n",
            "240/240 [==============================] - 1s 2ms/step - loss: 28.5373\n",
            "Epoch 35/100\n",
            "240/240 [==============================] - 1s 2ms/step - loss: 28.3760\n",
            "Epoch 36/100\n",
            "240/240 [==============================] - 1s 2ms/step - loss: 28.1364\n",
            "Epoch 37/100\n",
            "240/240 [==============================] - 0s 2ms/step - loss: 27.7134\n",
            "Epoch 38/100\n",
            "240/240 [==============================] - 0s 2ms/step - loss: 27.9010\n",
            "Epoch 39/100\n",
            "240/240 [==============================] - 0s 2ms/step - loss: 27.5113\n",
            "Epoch 40/100\n",
            "240/240 [==============================] - 1s 2ms/step - loss: 27.2723\n",
            "Epoch 41/100\n",
            "240/240 [==============================] - 1s 2ms/step - loss: 27.5118\n",
            "Epoch 42/100\n",
            "240/240 [==============================] - 1s 2ms/step - loss: 27.4643\n",
            "Epoch 43/100\n",
            "240/240 [==============================] - 1s 2ms/step - loss: 27.2630\n",
            "Epoch 44/100\n",
            "240/240 [==============================] - 1s 2ms/step - loss: 27.2122\n",
            "Epoch 45/100\n",
            "240/240 [==============================] - 1s 2ms/step - loss: 26.9779\n",
            "Epoch 46/100\n",
            "240/240 [==============================] - 1s 3ms/step - loss: 26.9899\n",
            "Epoch 47/100\n",
            "240/240 [==============================] - 1s 3ms/step - loss: 26.8786\n",
            "Epoch 48/100\n",
            "240/240 [==============================] - 1s 3ms/step - loss: 27.0008\n",
            "Epoch 49/100\n",
            "240/240 [==============================] - 1s 3ms/step - loss: 26.8514\n",
            "Epoch 50/100\n",
            "240/240 [==============================] - 0s 2ms/step - loss: 26.4536\n",
            "Epoch 51/100\n",
            "240/240 [==============================] - 0s 2ms/step - loss: 27.0492\n",
            "Epoch 52/100\n",
            "240/240 [==============================] - 0s 2ms/step - loss: 26.5751\n",
            "Epoch 53/100\n",
            "240/240 [==============================] - 1s 2ms/step - loss: 26.9654\n",
            "Epoch 54/100\n",
            "240/240 [==============================] - 0s 2ms/step - loss: 26.5345\n",
            "Epoch 55/100\n",
            "240/240 [==============================] - 0s 2ms/step - loss: 26.6367\n",
            "Epoch 56/100\n",
            "240/240 [==============================] - 0s 2ms/step - loss: 26.5828\n",
            "Epoch 57/100\n",
            "240/240 [==============================] - 1s 2ms/step - loss: 26.2448\n",
            "Epoch 58/100\n",
            "240/240 [==============================] - 1s 2ms/step - loss: 26.7689\n",
            "Epoch 59/100\n",
            "240/240 [==============================] - 1s 2ms/step - loss: 26.7506\n",
            "Epoch 60/100\n",
            "240/240 [==============================] - 1s 2ms/step - loss: 26.4731\n",
            "Epoch 61/100\n",
            "240/240 [==============================] - 0s 2ms/step - loss: 26.4618\n",
            "Epoch 62/100\n",
            "240/240 [==============================] - 0s 2ms/step - loss: 26.4277\n",
            "Epoch 63/100\n",
            "240/240 [==============================] - 1s 2ms/step - loss: 26.2867\n",
            "Epoch 64/100\n",
            "240/240 [==============================] - 1s 2ms/step - loss: 26.3876\n",
            "Epoch 65/100\n",
            "240/240 [==============================] - 0s 2ms/step - loss: 26.3763\n",
            "Epoch 66/100\n",
            "240/240 [==============================] - 0s 2ms/step - loss: 26.2954\n",
            "Epoch 67/100\n",
            "240/240 [==============================] - 0s 2ms/step - loss: 26.4573\n",
            "Epoch 68/100\n",
            "240/240 [==============================] - 0s 2ms/step - loss: 26.5270\n",
            "Epoch 69/100\n",
            "240/240 [==============================] - 1s 2ms/step - loss: 26.3968\n",
            "Epoch 70/100\n",
            "240/240 [==============================] - 1s 3ms/step - loss: 26.1903\n",
            "Epoch 71/100\n",
            "240/240 [==============================] - 1s 3ms/step - loss: 26.5913\n",
            "Epoch 72/100\n",
            "240/240 [==============================] - 1s 4ms/step - loss: 26.1752\n",
            "Epoch 73/100\n",
            "240/240 [==============================] - 1s 2ms/step - loss: 26.2761\n",
            "Epoch 74/100\n",
            "240/240 [==============================] - 0s 2ms/step - loss: 26.0474\n",
            "Epoch 75/100\n",
            "240/240 [==============================] - 0s 2ms/step - loss: 26.1376\n",
            "Epoch 76/100\n",
            "240/240 [==============================] - 1s 2ms/step - loss: 26.8439\n",
            "Epoch 77/100\n",
            "240/240 [==============================] - 0s 2ms/step - loss: 26.5111\n",
            "Epoch 78/100\n",
            "240/240 [==============================] - 0s 2ms/step - loss: 26.7333\n",
            "Epoch 79/100\n",
            "240/240 [==============================] - 1s 2ms/step - loss: 26.1583\n",
            "Epoch 80/100\n",
            "240/240 [==============================] - 0s 2ms/step - loss: 26.4819\n",
            "Epoch 81/100\n",
            "240/240 [==============================] - 0s 2ms/step - loss: 26.4835\n",
            "Epoch 82/100\n",
            "240/240 [==============================] - 0s 2ms/step - loss: 26.6919\n",
            "Epoch 83/100\n",
            "240/240 [==============================] - 0s 2ms/step - loss: 26.4747\n",
            "Epoch 84/100\n",
            "240/240 [==============================] - 1s 2ms/step - loss: 26.4023\n",
            "Epoch 85/100\n",
            "240/240 [==============================] - 1s 3ms/step - loss: 26.2554\n",
            "Epoch 86/100\n",
            "240/240 [==============================] - 1s 2ms/step - loss: 26.9763\n",
            "Epoch 87/100\n",
            "240/240 [==============================] - 1s 2ms/step - loss: 27.1076\n",
            "Epoch 88/100\n",
            "240/240 [==============================] - 0s 2ms/step - loss: 26.6755\n",
            "Epoch 89/100\n",
            "240/240 [==============================] - 0s 2ms/step - loss: 26.1444\n",
            "Epoch 90/100\n",
            "240/240 [==============================] - 1s 3ms/step - loss: 26.2945\n",
            "Epoch 91/100\n",
            "240/240 [==============================] - 1s 2ms/step - loss: 26.3879\n",
            "Epoch 92/100\n",
            "240/240 [==============================] - 0s 2ms/step - loss: 26.2828\n",
            "Epoch 93/100\n",
            "240/240 [==============================] - 1s 3ms/step - loss: 26.6005\n",
            "Epoch 94/100\n",
            "240/240 [==============================] - 1s 4ms/step - loss: 26.2938\n",
            "Epoch 95/100\n",
            "240/240 [==============================] - 1s 3ms/step - loss: 26.6810\n",
            "Epoch 96/100\n",
            "240/240 [==============================] - 1s 3ms/step - loss: 26.2113\n",
            "Epoch 97/100\n",
            "240/240 [==============================] - 1s 2ms/step - loss: 26.3617\n",
            "Epoch 98/100\n",
            "240/240 [==============================] - 0s 2ms/step - loss: 26.3250\n",
            "Epoch 99/100\n",
            "240/240 [==============================] - 0s 2ms/step - loss: 26.2611\n",
            "Epoch 100/100\n",
            "240/240 [==============================] - 0s 2ms/step - loss: 26.1608\n"
          ]
        },
        {
          "output_type": "execute_result",
          "data": {
            "text/plain": [
              "<keras.src.callbacks.History at 0x7cfa043dff70>"
            ]
          },
          "metadata": {},
          "execution_count": 29
        }
      ]
    },
    {
      "cell_type": "markdown",
      "source": [
        "###Predicting the test set results\n"
      ],
      "metadata": {
        "id": "Ooo9wdLovhZn"
      }
    },
    {
      "cell_type": "code",
      "source": [
        "y_pred = ann.predict(x_test)\n",
        "np.set_printoptions(precision = 2)\n",
        "\n",
        "print(np.concatenate((y_pred.reshape(len(y_pred),1), y_test.reshape(len(y_test),1)),1))\n",
        "\n",
        "#printing the predicted and original values side by side to compare"
      ],
      "metadata": {
        "colab": {
          "base_uri": "https://localhost:8080/"
        },
        "id": "0kxTz7QZjCDg",
        "outputId": "244e00ab-3bf1-41ae-cb70-597c8e38ef85"
      },
      "execution_count": 30,
      "outputs": [
        {
          "output_type": "stream",
          "name": "stdout",
          "text": [
            "60/60 [==============================] - 0s 1ms/step\n",
            "[[456.65 455.27]\n",
            " [438.83 436.31]\n",
            " [433.66 440.68]\n",
            " ...\n",
            " [481.16 479.53]\n",
            " [435.76 435.76]\n",
            " [459.85 457.1 ]]\n"
          ]
        }
      ]
    },
    {
      "cell_type": "markdown",
      "source": [
        "The Predicted values are very clsoe to the actual values. Hence are model has performed satisfactorily."
      ],
      "metadata": {
        "id": "phCjXzJ8wsaE"
      }
    },
    {
      "cell_type": "code",
      "source": [],
      "metadata": {
        "id": "hyZRBzQCv-yL"
      },
      "execution_count": 30,
      "outputs": []
    }
  ]
}